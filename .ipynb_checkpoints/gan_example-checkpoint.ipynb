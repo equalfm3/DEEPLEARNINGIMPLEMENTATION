{
 "cells": [
  {
   "cell_type": "markdown",
   "metadata": {},
   "source": [
    "# Simple GAN for 2D Circle Generation\n",
    "\n",
    "This notebook implements a basic Generative Adversarial Network (GAN) to generate 2D circles."
   ]
  },
  {
   "cell_type": "code",
   "execution_count": null,
   "metadata": {},
   "outputs": [],
   "source": [
    "import numpy as np\n",
    "import matplotlib.pyplot as plt\n",
    "import torch\n",
    "import torch.nn as nn\n",
    "import torch.optim as optim\n",
    "\n",
    "# Set random seed for reproducibility\n",
    "np.random.seed(42)\n",
    "torch.manual_seed(42)"
   ]
  },
  {
   "cell_type": "markdown",
   "metadata": {},
   "source": [
    "## Generate Dataset"
   ]
  },
  {
   "cell_type": "code",
   "execution_count": null,
   "metadata": {},
   "outputs": [],
   "source": [
    "def generate_circle(n_samples):\n",
    "    r = np.random.uniform(0, 1, n_samples)\n",
    "    theta = np.random.uniform(0, 2*np.pi, n_samples)\n",
    "    x = r * np.cos(theta)\n",
    "    y = r * np.sin(theta)\n",
    "    return np.column_stack((x, y))\n",
    "\n",
    "n_samples = 1000\n",
    "real_data = generate_circle(n_samples)\n",
    "\n",
    "plt.figure(figsize=(6, 6))\n",
    "plt.scatter(real_data[:, 0], real_data[:, 1], alpha=0.5)\n",
    "plt.title(\"Real Data\")\n",
    "plt.show()"
   ]
  },
  {
   "cell_type": "markdown",
   "metadata": {},
   "source": [
    "## Define Generator and Discriminator"
   ]
  },
  {
   "cell_type": "code",
   "execution_count": null,
   "metadata": {},
   "outputs": [],
   "source": [
    "class Generator(nn.Module):\n",
    "    def __init__(self):\n",
    "        super(Generator, self).__init__()\n",
    "        self.model = nn.Sequential(\n",
    "            nn.Linear(2, 16),\n",
    "            nn.ReLU(),\n",
    "            nn.Linear(16, 32),\n",
    "            nn.ReLU(),\n",
    "            nn.Linear(32, 2)\n",
    "        )\n",
    "\n",
    "    def forward(self, x):\n",
    "        return self.model(x)\n",
    "\n",
    "class Discriminator(nn.Module):\n",
    "    def __init__(self):\n",
    "        super(Discriminator, self).__init__()\n",
    "        self.model = nn.Sequential(\n",
    "            nn.Linear(2, 16),\n",
    "            nn.ReLU(),\n",
    "            nn.Linear(16, 32),\n",
    "            nn.ReLU(),\n",
    "            nn.Linear(32, 1),\n",
    "            nn.Sigmoid()\n",
    "        )\n",
    "\n",
    "    def forward(self, x):\n",
    "        return self.model(x)\n",
    "\n",
    "# Initialize models and optimizers\n",
    "generator = Generator()\n",
    "discriminator = Discriminator()\n",
    "g_optimizer = optim.Adam(generator.parameters(), lr=0.001)\n",
    "d_optimizer = optim.Adam(discriminator.parameters(), lr=0.001)\n",
    "\n",
    "# Loss function\n",
    "criterion = nn.BCELoss()"
   ]
  },
  {
   "cell_type": "markdown",
   "metadata": {},
   "source": [
    "## Training Loop"
   ]
  },
  {
   "cell_type": "code",
   "execution_count": null,
   "metadata": {},
   "outputs": [],
   "source": [
    "n_epochs = 5000\n",
    "batch_size = 32\n",
    "\n",
    "for epoch in range(n_epochs):\n",
    "    # Train Discriminator\n",
    "    for _ in range(5):\n",
    "        # Real data\n",
    "        real_samples = torch.Tensor(real_data[np.random.choice(n_samples, batch_size)])\n",
    "        real_labels = torch.ones(batch_size, 1)\n",
    "        d_optimizer.zero_grad()\n",
    "        real_output = discriminator(real_samples)\n",
    "        d_loss_real = criterion(real_output, real_labels)\n",
    "\n",
    "        # Fake data\n",
    "        noise = torch.randn(batch_size, 2)\n",
    "        fake_samples = generator(noise)\n",
    "        fake_labels = torch.zeros(batch_size, 1)\n",
    "        fake_output = discriminator(fake_samples.detach())\n",
    "        d_loss_fake = criterion(fake_output, fake_labels)\n",
    "\n",
    "        d_loss = d_loss_real + d_loss_fake\n",
    "        d_loss.backward()\n",
    "        d_optimizer.step()\n",
    "\n",
    "    # Train Generator\n",
    "    g_optimizer.zero_grad()\n",
    "    noise = torch.randn(batch_size, 2)\n",
    "    fake_samples = generator(noise)\n",
    "    output = discriminator(fake_samples)\n",
    "    g_loss = criterion(output, real_labels)\n",
    "    g_loss.backward()\n",
    "    g_optimizer.step()\n",
    "\n",
    "    if (epoch + 1) % 500 == 0:\n",
    "        print(f\"Epoch [{epoch+1}/{n_epochs}], d_loss: {d_loss.item():.4f}, g_loss: {g_loss.item():.4f}\")"
   ]
  },
  {
   "cell_type": "markdown",
   "metadata": {},
   "source": [
    "## Generate and Visualize Results"
   ]
  },
  {
   "cell_type": "code",
   "execution_count": null,
   "metadata": {},
   "outputs": [],
   "source": [
    "# Generate samples after training\n",
    "with torch.no_grad():\n",
    "    noise = torch.randn(n_samples, 2)\n",
    "    generated_samples = generator(noise).numpy()\n",
    "\n",
    "# Plot results\n",
    "plt.figure(figsize=(12, 5))\n",
    "plt.subplot(121)\n",
    "plt.scatter(real_data[:, 0], real_data[:, 1], alpha=0.5)\n",
    "plt.title(\"Real Data\")\n",
    "plt.subplot(122)\n",
    "plt.scatter(generated_samples[:, 0], generated_samples[:, 1], alpha=0.5)\n",
    "plt.title(\"Generated Data\")\n",
    "plt.tight_layout()\n",
    "plt.show()"
   ]
  }
 ],
 "metadata": {
  "kernelspec": {
   "display_name": "Python 3",
   "language": "python",
   "name": "python3"
  },
  "language_info": {
   "codemirror_mode": {
    "name": "ipython",
    "version": 3
   },
   "file_extension": ".py",
   "mimetype": "text/x-python",
   "name": "python",
   "nbconvert_exporter": "python",
   "pygments_lexer": "ipython3",
   "version": "3.8.5"
  }
 },
 "nbformat": 4,
 "nbformat_minor": 4
}